{
 "cells": [
  {
   "cell_type": "code",
   "execution_count": 73,
   "id": "27531620",
   "metadata": {
    "scrolled": true
   },
   "outputs": [
    {
     "name": "stderr",
     "output_type": "stream",
     "text": [
      "[nltk_data] Downloading package punkt to /home/motherlode/nltk_data...\n",
      "[nltk_data]   Package punkt is already up-to-date!\n",
      "[nltk_data] Downloading package stopwords to\n",
      "[nltk_data]     /home/motherlode/nltk_data...\n",
      "[nltk_data]   Package stopwords is already up-to-date!\n"
     ]
    }
   ],
   "source": [
    "import pandas as pd\n",
    "from sklearn.model_selection import train_test_split\n",
    "import nltk\n",
    "import string\n",
    "from nltk.corpus import stopwords\n",
    "from nltk.tokenize import word_tokenize\n",
    "from nltk.stem import SnowballStemmer\n",
    "nltk.download('punkt')\n",
    "nltk.download('stopwords')\n",
    "\n",
    "from sklearn.pipeline import Pipeline\n",
    "from sklearn.linear_model import LogisticRegression\n",
    "from sklearn.feature_extraction.text import TfidfVectorizer\n",
    "from sklearn.metrics import precision_score, recall_score, precision_recall_curve\n",
    "from matplotlib import pyplot as plt\n",
    "from sklearn.metrics import plot_precision_recall_curve\n",
    "import numpy as np\n",
    "from sklearn.model_selection import GridSearchCV\n"
   ]
  },
  {
   "cell_type": "code",
   "execution_count": 74,
   "id": "1dca98b6",
   "metadata": {},
   "outputs": [
    {
     "name": "stdout",
     "output_type": "stream",
     "text": [
      "      UserName  ScreenName             Location     TweetAt  \\\n",
      "0            1       44953                  NYC  02-03-2020   \n",
      "1            2       44954          Seattle, WA  02-03-2020   \n",
      "2            3       44955                  NaN  02-03-2020   \n",
      "3            4       44956          Chicagoland  02-03-2020   \n",
      "4            5       44957  Melbourne, Victoria  03-03-2020   \n",
      "...        ...         ...                  ...         ...   \n",
      "3793      3794       48746            Israel ??  16-03-2020   \n",
      "3794      3795       48747       Farmington, NM  16-03-2020   \n",
      "3795      3796       48748        Haverford, PA  16-03-2020   \n",
      "3796      3797       48749                  NaN  16-03-2020   \n",
      "3797      3798       48750  Arlington, Virginia  16-03-2020   \n",
      "\n",
      "                                          OriginalTweet  Sentiment  \n",
      "0     TRENDING: New Yorkers encounter empty supermar...          0  \n",
      "1     When I couldn't find hand sanitizer at Fred Me...          1  \n",
      "2     Find out how you can protect yourself and love...          1  \n",
      "3     #Panic buying hits #NewYork City as anxious sh...          0  \n",
      "4     #toiletpaper #dunnypaper #coronavirus #coronav...          1  \n",
      "...                                                 ...        ...  \n",
      "3793  Meanwhile In A Supermarket in Israel -- People...          1  \n",
      "3794  Did you panic buy a lot of non-perishable item...          0  \n",
      "3795  Asst Prof of Economics @cconces was on @NBCPhi...          1  \n",
      "3796  Gov need to do somethings instead of biar je r...          0  \n",
      "3797  I and @ForestandPaper members are committed to...          1  \n",
      "\n",
      "[3798 rows x 6 columns]\n"
     ]
    }
   ],
   "source": [
    "df = pd.read_csv(\"data/Corona_NLP_train.csv\", encoding='latin-1')\n",
    "df[\"Sentiment\"].replace(to_replace = {'Extremely Positive' : 1, 'Positive' : 1, 'Neutral' : 1, \n",
    "                                   'Negative' : 0, 'Extremely Negative' : 0}, inplace=True)\n",
    "df_test = pd.read_csv(\"data/Corona_NLP_test.csv\", encoding='latin-1')\n",
    "df_test[\"Sentiment\"].replace(to_replace = {'Extremely Positive' : 1, 'Positive' : 1, 'Neutral' : 1, \n",
    "                                   'Negative' : 0, 'Extremely Negative' : 0}, inplace=True)\n",
    "print(df_test)"
   ]
  },
  {
   "cell_type": "code",
   "execution_count": 75,
   "id": "00d50ae9",
   "metadata": {},
   "outputs": [
    {
     "data": {
      "text/plain": [
       "(41157, 6)"
      ]
     },
     "execution_count": 75,
     "metadata": {},
     "output_type": "execute_result"
    }
   ],
   "source": [
    "df.shape\n",
    "#df_test[\"Sentiment\"].value_counts()\n",
    "#df - тренирвка. dt_test - test"
   ]
  },
  {
   "cell_type": "code",
   "execution_count": 76,
   "id": "72f65e0c",
   "metadata": {},
   "outputs": [
    {
     "data": {
      "text/html": [
       "<div>\n",
       "<style scoped>\n",
       "    .dataframe tbody tr th:only-of-type {\n",
       "        vertical-align: middle;\n",
       "    }\n",
       "\n",
       "    .dataframe tbody tr th {\n",
       "        vertical-align: top;\n",
       "    }\n",
       "\n",
       "    .dataframe thead th {\n",
       "        text-align: right;\n",
       "    }\n",
       "</style>\n",
       "<table border=\"1\" class=\"dataframe\">\n",
       "  <thead>\n",
       "    <tr style=\"text-align: right;\">\n",
       "      <th></th>\n",
       "      <th>UserName</th>\n",
       "      <th>ScreenName</th>\n",
       "      <th>Location</th>\n",
       "      <th>TweetAt</th>\n",
       "      <th>OriginalTweet</th>\n",
       "      <th>Sentiment</th>\n",
       "    </tr>\n",
       "  </thead>\n",
       "  <tbody>\n",
       "    <tr>\n",
       "      <th>0</th>\n",
       "      <td>3799</td>\n",
       "      <td>48751</td>\n",
       "      <td>London</td>\n",
       "      <td>16-03-2020</td>\n",
       "      <td>@MeNyrbie @Phil_Gahan @Chrisitv https://t.co/i...</td>\n",
       "      <td>1</td>\n",
       "    </tr>\n",
       "    <tr>\n",
       "      <th>1</th>\n",
       "      <td>3800</td>\n",
       "      <td>48752</td>\n",
       "      <td>UK</td>\n",
       "      <td>16-03-2020</td>\n",
       "      <td>advice Talk to your neighbours family to excha...</td>\n",
       "      <td>1</td>\n",
       "    </tr>\n",
       "    <tr>\n",
       "      <th>2</th>\n",
       "      <td>3801</td>\n",
       "      <td>48753</td>\n",
       "      <td>Vagabonds</td>\n",
       "      <td>16-03-2020</td>\n",
       "      <td>Coronavirus Australia: Woolworths to give elde...</td>\n",
       "      <td>1</td>\n",
       "    </tr>\n",
       "    <tr>\n",
       "      <th>3</th>\n",
       "      <td>3802</td>\n",
       "      <td>48754</td>\n",
       "      <td>NaN</td>\n",
       "      <td>16-03-2020</td>\n",
       "      <td>My food stock is not the only one which is emp...</td>\n",
       "      <td>1</td>\n",
       "    </tr>\n",
       "    <tr>\n",
       "      <th>4</th>\n",
       "      <td>3803</td>\n",
       "      <td>48755</td>\n",
       "      <td>NaN</td>\n",
       "      <td>16-03-2020</td>\n",
       "      <td>Me, ready to go at supermarket during the #COV...</td>\n",
       "      <td>0</td>\n",
       "    </tr>\n",
       "  </tbody>\n",
       "</table>\n",
       "</div>"
      ],
      "text/plain": [
       "   UserName  ScreenName   Location     TweetAt  \\\n",
       "0      3799       48751     London  16-03-2020   \n",
       "1      3800       48752         UK  16-03-2020   \n",
       "2      3801       48753  Vagabonds  16-03-2020   \n",
       "3      3802       48754        NaN  16-03-2020   \n",
       "4      3803       48755        NaN  16-03-2020   \n",
       "\n",
       "                                       OriginalTweet  Sentiment  \n",
       "0  @MeNyrbie @Phil_Gahan @Chrisitv https://t.co/i...          1  \n",
       "1  advice Talk to your neighbours family to excha...          1  \n",
       "2  Coronavirus Australia: Woolworths to give elde...          1  \n",
       "3  My food stock is not the only one which is emp...          1  \n",
       "4  Me, ready to go at supermarket during the #COV...          0  "
      ]
     },
     "execution_count": 76,
     "metadata": {},
     "output_type": "execute_result"
    }
   ],
   "source": [
    "df.head()"
   ]
  },
  {
   "cell_type": "code",
   "execution_count": 77,
   "id": "bf7a870d",
   "metadata": {},
   "outputs": [
    {
     "data": {
      "text/plain": [
       "1    25759\n",
       "0    15398\n",
       "Name: Sentiment, dtype: int64"
      ]
     },
     "execution_count": 77,
     "metadata": {},
     "output_type": "execute_result"
    }
   ],
   "source": [
    "df[\"Sentiment\"].value_counts()"
   ]
  },
  {
   "cell_type": "code",
   "execution_count": 78,
   "id": "f2bbdce0",
   "metadata": {},
   "outputs": [],
   "source": [
    "snowball = SnowballStemmer(language=\"english\")\n",
    "english_stop_words = stopwords.words(\"english\")\n",
    "\n",
    "def tokenize_sentence(sentence: str, remove_stop_words:bool = True):\n",
    "    tokens = tokens = word_tokenize(sentence, language=\"english\")\n",
    "    tokens = [i for i in tokens if i not in string.punctuation]\n",
    "    if remove_stop_words:\n",
    "        tokens = [i for i in tokens if i not in english_stop_words]\n",
    "    tokens = [snowball.stem(i) for i in tokens]\n",
    "    return tokens"
   ]
  },
  {
   "cell_type": "code",
   "execution_count": 84,
   "id": "30883da5",
   "metadata": {},
   "outputs": [
    {
     "name": "stdout",
     "output_type": "stream",
     "text": [
      "9    For corona prevention,we should stop to buy th...\n",
      "Name: OriginalTweet, dtype: object\n"
     ]
    }
   ],
   "source": [
    "t = df[\"OriginalTweet\"][9:10]\n",
    "print(t)"
   ]
  },
  {
   "cell_type": "code",
   "execution_count": 85,
   "id": "9d98af76",
   "metadata": {},
   "outputs": [
    {
     "name": "stdout",
     "output_type": "stream",
     "text": [
      "[['for', 'corona', 'prevent', 'stop', 'buy', 'thing', 'cash', 'use', 'onlin', 'payment', 'method', 'corona', 'spread', 'note', 'also', 'prefer', 'onlin', 'shop', 'home', 'it', \"'s\", 'time', 'fight', 'covid', '19', 'govindia', 'indiafightscorona']]\n"
     ]
    }
   ],
   "source": [
    "tok = [tokenize_sentence(x) for x in t]\n",
    "print(tok)"
   ]
  },
  {
   "cell_type": "code",
   "execution_count": 87,
   "id": "fcd3a0ab",
   "metadata": {},
   "outputs": [
    {
     "name": "stdout",
     "output_type": "stream",
     "text": [
      "{'19': 1.0, 'buy': 1.0, 'cash': 1.0, 'corona': 1.0, 'covid': 1.0, 'fight': 1.0, 'govindia': 1.0, 'home': 1.0, 'indiafightscorona': 1.0, 'methods': 1.0, 'notes': 1.0, 'online': 1.0, 'payment': 1.0, 'prefer': 1.0, 'prevention': 1.0, 'shopping': 1.0, 'spread': 1.0, 'stop': 1.0, 'things': 1.0, 'time': 1.0, 'use': 1.0}\n"
     ]
    }
   ],
   "source": [
    "tfidf = TfidfVectorizer(min_df=1, stop_words='english')\n",
    "x_demo = tfidf.fit_transform(t)\n",
    "idf = tfidf.idf_\n",
    "d = dict(zip(tfidf.get_feature_names(), idf))\n",
    "print(d)"
   ]
  },
  {
   "cell_type": "code",
   "execution_count": 9,
   "id": "a75b1b6e",
   "metadata": {},
   "outputs": [],
   "source": [
    "model_pipeline = Pipeline([\n",
    "    (\"vectorizer\", TfidfVectorizer(tokenizer=lambda x: tokenize_sentence(x))),\n",
    "    (\"model\", LogisticRegression(C = 10.0, random_state = 0, max_iter = 500))\n",
    "]    \n",
    ")"
   ]
  },
  {
   "cell_type": "code",
   "execution_count": 43,
   "id": "e00915cf",
   "metadata": {},
   "outputs": [
    {
     "name": "stderr",
     "output_type": "stream",
     "text": [
      "/home/motherlode/.local/lib/python3.10/site-packages/sklearn/feature_extraction/text.py:516: UserWarning: The parameter 'token_pattern' will not be used since 'tokenizer' is not None'\n",
      "  warnings.warn(\n"
     ]
    },
    {
     "data": {
      "text/plain": [
       "TfidfVectorizer(tokenizer=<function <lambda> at 0x7f2ed32dfd90>)"
      ]
     },
     "execution_count": 43,
     "metadata": {},
     "output_type": "execute_result"
    }
   ],
   "source": []
  },
  {
   "cell_type": "code",
   "execution_count": 44,
   "id": "d1d695e6",
   "metadata": {},
   "outputs": [
    {
     "ename": "NameError",
     "evalue": "name 'model_pipeline' is not defined",
     "output_type": "error",
     "traceback": [
      "\u001b[0;31m---------------------------------------------------------------------------\u001b[0m",
      "\u001b[0;31mNameError\u001b[0m                                 Traceback (most recent call last)",
      "Input \u001b[0;32mIn [44]\u001b[0m, in \u001b[0;36m<cell line: 1>\u001b[0;34m()\u001b[0m\n\u001b[0;32m----> 1\u001b[0m \u001b[43mmodel_pipeline\u001b[49m\u001b[38;5;241m.\u001b[39mfit(df[\u001b[38;5;124m\"\u001b[39m\u001b[38;5;124mOriginalTweet\u001b[39m\u001b[38;5;124m\"\u001b[39m], df[\u001b[38;5;124m\"\u001b[39m\u001b[38;5;124mSentiment\u001b[39m\u001b[38;5;124m\"\u001b[39m])\n",
      "\u001b[0;31mNameError\u001b[0m: name 'model_pipeline' is not defined"
     ]
    }
   ],
   "source": [
    "model_pipeline.fit(df[\"OriginalTweet\"], df[\"Sentiment\"])"
   ]
  },
  {
   "cell_type": "code",
   "execution_count": 11,
   "id": "c7041983",
   "metadata": {},
   "outputs": [
    {
     "data": {
      "text/plain": [
       "0.8266267123287672"
      ]
     },
     "execution_count": 11,
     "metadata": {},
     "output_type": "execute_result"
    }
   ],
   "source": [
    "precision_score(y_true=df_test[\"Sentiment\"], y_pred=model_pipeline.predict(df_test[\"OriginalTweet\"]))"
   ]
  },
  {
   "cell_type": "code",
   "execution_count": 12,
   "id": "3449f5cc",
   "metadata": {
    "scrolled": true
   },
   "outputs": [
    {
     "data": {
      "text/plain": [
       "0.8919168591224018"
      ]
     },
     "execution_count": 12,
     "metadata": {},
     "output_type": "execute_result"
    }
   ],
   "source": [
    "recall_score(y_true=df_test[\"Sentiment\"], y_pred=model_pipeline.predict(df_test[\"OriginalTweet\"]))"
   ]
  },
  {
   "cell_type": "code",
   "execution_count": 13,
   "id": "947e7850",
   "metadata": {},
   "outputs": [
    {
     "ename": "SyntaxError",
     "evalue": "unmatched ')' (1949966827.py, line 1)",
     "output_type": "error",
     "traceback": [
      "\u001b[0;36m  Input \u001b[0;32mIn [13]\u001b[0;36m\u001b[0m\n\u001b[0;31m    prec, rec, thresholds = y_true=df_test[\"Sentiment\"], probas_pred=model_pipeline.predict_proba(df_test[\"OriginalTweet\"])[:, 1])\u001b[0m\n\u001b[0m                                                                                                                                 ^\u001b[0m\n\u001b[0;31mSyntaxError\u001b[0m\u001b[0;31m:\u001b[0m unmatched ')'\n"
     ]
    }
   ],
   "source": [
    "prec, rec, thresholds = y_true=df_test[\"Sentiment\"], probas_pred=model_pipeline.predict_proba(df_test[\"OriginalTweet\"])[:, 1])"
   ]
  },
  {
   "cell_type": "code",
   "execution_count": null,
   "id": "45ecd8ea",
   "metadata": {},
   "outputs": [],
   "source": [
    "plot_precision_recall_curve(estimator=model_pipeline, X=df_test[\"OriginalTweet\"], y=df_test[\"Sentiment\"])"
   ]
  },
  {
   "cell_type": "code",
   "execution_count": null,
   "id": "145a58bf",
   "metadata": {},
   "outputs": [],
   "source": [
    "np.where(prec > 0.95)\n",
    "#model_pipeline.predict([\"good.\"])"
   ]
  },
  {
   "cell_type": "code",
   "execution_count": null,
   "id": "115ab1d3",
   "metadata": {},
   "outputs": [],
   "source": [
    "thresholds[2756]"
   ]
  },
  {
   "cell_type": "code",
   "execution_count": null,
   "id": "d19ee2d1",
   "metadata": {
    "scrolled": true
   },
   "outputs": [],
   "source": [
    "precision_score(y_true=df_test[\"Sentiment\"], y_pred=model_pipeline.predict_proba(df_test[\"OriginalTweet\"])[:, 1] > thresholds[2756])"
   ]
  },
  {
   "cell_type": "code",
   "execution_count": null,
   "id": "8f59eaa8",
   "metadata": {},
   "outputs": [],
   "source": [
    "recall_score(y_true=df_test[\"Sentiment\"], y_pred=model_pipeline.predict_proba(df_test[\"OriginalTweet\"])[:, 1] > thresholds[2756])"
   ]
  },
  {
   "cell_type": "code",
   "execution_count": null,
   "id": "7c13b3dd",
   "metadata": {},
   "outputs": [],
   "source": [
    "w = [\"feel good\", \"is ill\", \"cagh\", \"weakness in the legs\", \"exelent\", \"normal state of health\"]"
   ]
  },
  {
   "cell_type": "code",
   "execution_count": null,
   "id": "75bdfd11",
   "metadata": {},
   "outputs": [],
   "source": [
    "ans = model_pipeline.predict_proba(w)\n",
    "ans = ans[:, 1]"
   ]
  },
  {
   "cell_type": "code",
   "execution_count": null,
   "id": "3d6b0e09",
   "metadata": {},
   "outputs": [],
   "source": [
    "pd.crosstab(w , ans).plot(kind = 'bar')"
   ]
  },
  {
   "cell_type": "markdown",
   "id": "cf490f1d",
   "metadata": {},
   "source": [
    "table=pd.crosstab(data.marital,data.y)\n",
    "table.div(table.sum(1).astype(float), axis=0).plot(kind='bar', stacked=True)\n"
   ]
  },
  {
   "cell_type": "code",
   "execution_count": null,
   "id": "3e07b965",
   "metadata": {},
   "outputs": [],
   "source": [
    "%matplotlib inline\n",
    "table=pd.crosstab(w,ans)\n",
    "table.div(table.sum(1).astype(float), axis=0).plot(kind='bar', stacked=True)"
   ]
  },
  {
   "cell_type": "code",
   "execution_count": null,
   "id": "729bd610",
   "metadata": {},
   "outputs": [],
   "source": [
    "import matplotlib as mpl\n",
    "import matplotlib.pyplot as plt\n",
    "import matplotlib.dates as mdates\n",
    "import datetime as dt\n",
    "import csv\n",
    "dpi = 80\n",
    "fig = plt.figure(dpi = dpi, figsize = (512 / dpi, 384 / dpi) )\n",
    "mpl.rcParams.update({'font.size': 9})\n",
    "ax = plt.axes()\n",
    "ax.xaxis.grid(True, zorder = 1)\n",
    "xs = range(len(w))\n",
    "\n",
    "plt.barh([x + 0.3 for x in xs], [ 1 - d for d in ans],\n",
    "         height = 0.2, color = 'red', alpha = 0.7, label = 'bad',\n",
    "         zorder = 2)\n",
    "plt.barh([x + 0.05 for x in xs], ans,\n",
    "         height = 0.2, color = 'blue', alpha = 0.7, label = 'good',\n",
    "         zorder = 2)\n",
    "plt.yticks(xs, w, rotation = 10)\n",
    "\n",
    "plt.legend(loc='upper right')\n",
    "fig.savefig('barshoris.png')"
   ]
  },
  {
   "cell_type": "code",
   "execution_count": null,
   "id": "7c41cc3d",
   "metadata": {},
   "outputs": [],
   "source": []
  },
  {
   "cell_type": "code",
   "execution_count": null,
   "id": "e8355e38",
   "metadata": {},
   "outputs": [],
   "source": []
  }
 ],
 "metadata": {
  "kernelspec": {
   "display_name": "Python 3 (ipykernel)",
   "language": "python",
   "name": "python3"
  },
  "language_info": {
   "codemirror_mode": {
    "name": "ipython",
    "version": 3
   },
   "file_extension": ".py",
   "mimetype": "text/x-python",
   "name": "python",
   "nbconvert_exporter": "python",
   "pygments_lexer": "ipython3",
   "version": "3.10.4"
  }
 },
 "nbformat": 4,
 "nbformat_minor": 5
}
